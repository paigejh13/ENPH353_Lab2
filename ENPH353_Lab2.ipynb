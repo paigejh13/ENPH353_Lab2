{
  "nbformat": 4,
  "nbformat_minor": 0,
  "metadata": {
    "colab": {
      "provenance": [],
      "authorship_tag": "ABX9TyMJN1Gtwn8Z/wedl01lIzc3",
      "include_colab_link": true
    },
    "kernelspec": {
      "name": "python3",
      "display_name": "Python 3"
    },
    "language_info": {
      "name": "python"
    }
  },
  "cells": [
    {
      "cell_type": "markdown",
      "metadata": {
        "id": "view-in-github",
        "colab_type": "text"
      },
      "source": [
        "<a href=\"https://colab.research.google.com/github/paigejh13/practice1/blob/master/ENPH353_Lab2.ipynb\" target=\"_parent\"><img src=\"https://colab.research.google.com/assets/colab-badge.svg\" alt=\"Open In Colab\"/></a>"
      ]
    },
    {
      "cell_type": "code",
      "execution_count": 4,
      "metadata": {
        "id": "oLzwzpBG8jup"
      },
      "outputs": [],
      "source": [
        "import numpy as np\n",
        "import matplotlib.pyplot as plt\n",
        "import cv2\n",
        "import math"
      ]
    },
    {
      "cell_type": "code",
      "source": [
        "from cv2.gapi import gaussianBlur\n",
        "rawVid = cv2.VideoCapture('/content/raw_video_feed.mp4')\n",
        "fourcc = cv2.VideoWriter_fourcc(*'XVID')\n",
        "out = cv2.VideoWriter('output.mp4', fourcc, 20.0, (640, 480))\n",
        "\n",
        "j = 0\n",
        "while rawVid.isOpened:\n",
        "  val, frame = rawVid.read()\n",
        "\n",
        "  frame1 = cv2.cvtColor(frame, cv2.COLOR_BGR2GRAY)\n",
        "\n",
        "  threshold = 114\n",
        "  _, frame2 = cv2.threshold(frame1, threshold, 255, cv2.THRESH_BINARY)\n",
        "\n",
        "  img_blur1 = cv2.GaussianBlur(frame2,(15,15),0)\n",
        "\n",
        "  img_delta10 = img_blur1.astype(np.float32) - frame2.astype(np.float32)\n",
        "  img_delta10 =  cv2.normalize(img_delta10, img_delta10, 0, 1, cv2.NORM_MINMAX)\n",
        "\n",
        "\n",
        "  k = 0\n",
        "  edgeLoc = np.zeros(2)\n",
        "\n",
        "  for i in range(1, img_delta10.shape[1]-2):\n",
        "    if abs(img_delta10[img_delta10.shape[0]-1,i+1] - img_delta10[img_delta10.shape[0]-1,i-1]) > 0.42:\n",
        "      edgeLoc[k] = i\n",
        "      k = k+1\n",
        "\n",
        "  if(edgeLoc[1]-edgeLoc[0])%2 == 1:\n",
        "    xVal = (edgeLoc[1]-edgeLoc[0]+1)/2+edgeLoc[0]\n",
        "  else:\n",
        "    xVal = (edgeLoc[1]-edgeLoc[0])/2+edgeLoc[0]\n",
        "\n",
        "  yVal = 210\n",
        "\n",
        "  cv2.circle(frame,(int(xVal),yVal), 25, (0,0,255), -1)\n",
        "  out.write(frame)\n",
        "\n",
        "\n",
        "\n",
        "\n",
        "  j = j+1\n",
        "  if j == 150:\n",
        "    break\n"
      ],
      "metadata": {
        "colab": {
          "base_uri": "https://localhost:8080/",
          "height": 314
        },
        "id": "0HlfpZVk97CV",
        "outputId": "d6e0ff42-83d7-4328-88d4-ec8c1f8bc73b"
      },
      "execution_count": 99,
      "outputs": [
        {
          "output_type": "stream",
          "name": "stdout",
          "text": [
            "0\n",
            "0\n",
            "1\n",
            "2\n"
          ]
        },
        {
          "output_type": "error",
          "ename": "IndexError",
          "evalue": "ignored",
          "traceback": [
            "\u001b[0;31m---------------------------------------------------------------------------\u001b[0m",
            "\u001b[0;31mIndexError\u001b[0m                                Traceback (most recent call last)",
            "\u001b[0;32m<ipython-input-99-eaf0ae5b63d7>\u001b[0m in \u001b[0;36m<cell line: 7>\u001b[0;34m()\u001b[0m\n\u001b[1;32m     26\u001b[0m     \u001b[0;32mif\u001b[0m \u001b[0mabs\u001b[0m\u001b[0;34m(\u001b[0m\u001b[0mimg_delta10\u001b[0m\u001b[0;34m[\u001b[0m\u001b[0mimg_delta10\u001b[0m\u001b[0;34m.\u001b[0m\u001b[0mshape\u001b[0m\u001b[0;34m[\u001b[0m\u001b[0;36m0\u001b[0m\u001b[0;34m]\u001b[0m\u001b[0;34m-\u001b[0m\u001b[0;36m1\u001b[0m\u001b[0;34m,\u001b[0m\u001b[0mi\u001b[0m\u001b[0;34m+\u001b[0m\u001b[0;36m1\u001b[0m\u001b[0;34m]\u001b[0m \u001b[0;34m-\u001b[0m \u001b[0mimg_delta10\u001b[0m\u001b[0;34m[\u001b[0m\u001b[0mimg_delta10\u001b[0m\u001b[0;34m.\u001b[0m\u001b[0mshape\u001b[0m\u001b[0;34m[\u001b[0m\u001b[0;36m0\u001b[0m\u001b[0;34m]\u001b[0m\u001b[0;34m-\u001b[0m\u001b[0;36m1\u001b[0m\u001b[0;34m,\u001b[0m\u001b[0mi\u001b[0m\u001b[0;34m-\u001b[0m\u001b[0;36m1\u001b[0m\u001b[0;34m]\u001b[0m\u001b[0;34m)\u001b[0m \u001b[0;34m>\u001b[0m \u001b[0;36m0.42\u001b[0m\u001b[0;34m:\u001b[0m\u001b[0;34m\u001b[0m\u001b[0;34m\u001b[0m\u001b[0m\n\u001b[1;32m     27\u001b[0m       \u001b[0mprint\u001b[0m\u001b[0;34m(\u001b[0m\u001b[0mk\u001b[0m\u001b[0;34m)\u001b[0m\u001b[0;34m\u001b[0m\u001b[0;34m\u001b[0m\u001b[0m\n\u001b[0;32m---> 28\u001b[0;31m       \u001b[0medgeLoc\u001b[0m\u001b[0;34m[\u001b[0m\u001b[0mk\u001b[0m\u001b[0;34m]\u001b[0m \u001b[0;34m=\u001b[0m \u001b[0mi\u001b[0m\u001b[0;34m\u001b[0m\u001b[0;34m\u001b[0m\u001b[0m\n\u001b[0m\u001b[1;32m     29\u001b[0m       \u001b[0mk\u001b[0m \u001b[0;34m=\u001b[0m \u001b[0mk\u001b[0m\u001b[0;34m+\u001b[0m\u001b[0;36m1\u001b[0m\u001b[0;34m\u001b[0m\u001b[0;34m\u001b[0m\u001b[0m\n\u001b[1;32m     30\u001b[0m \u001b[0;34m\u001b[0m\u001b[0m\n",
            "\u001b[0;31mIndexError\u001b[0m: index 2 is out of bounds for axis 0 with size 2"
          ]
        }
      ]
    }
  ]
}