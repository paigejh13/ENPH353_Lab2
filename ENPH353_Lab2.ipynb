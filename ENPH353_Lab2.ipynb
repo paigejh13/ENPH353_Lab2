{
  "nbformat": 4,
  "nbformat_minor": 0,
  "metadata": {
    "colab": {
      "provenance": [],
      "authorship_tag": "ABX9TyPeAFR2ytseYMDy7IK/FR8k",
      "include_colab_link": true
    },
    "kernelspec": {
      "name": "python3",
      "display_name": "Python 3"
    },
    "language_info": {
      "name": "python"
    }
  },
  "cells": [
    {
      "cell_type": "markdown",
      "metadata": {
        "id": "view-in-github",
        "colab_type": "text"
      },
      "source": [
        "<a href=\"https://colab.research.google.com/github/paigejh13/ENPH353_Lab2/blob/master/ENPH353_Lab2.ipynb\" target=\"_parent\"><img src=\"https://colab.research.google.com/assets/colab-badge.svg\" alt=\"Open In Colab\"/></a>"
      ]
    },
    {
      "cell_type": "code",
      "execution_count": 1,
      "metadata": {
        "id": "oLzwzpBG8jup"
      },
      "outputs": [],
      "source": [
        "import numpy as np\n",
        "import matplotlib.pyplot as plt\n",
        "import cv2\n",
        "import math"
      ]
    },
    {
      "cell_type": "code",
      "source": [
        "from cv2.gapi import gaussianBlur\n",
        "rawVid = cv2.VideoCapture('/content/raw_video_feed.mp4')\n",
        "fourcc = cv2.VideoWriter_fourcc(*'mp4v')\n",
        "out = cv2.VideoWriter('output.mp4', fourcc, 15.0, (320,240))\n",
        "\n",
        "j = 0\n",
        "while rawVid.isOpened:\n",
        "  val, frame = rawVid.read()\n",
        "\n",
        "  if bool(val) == 0:\n",
        "    print(j)\n",
        "    break\n",
        "\n",
        "  frame1 = cv2.cvtColor(frame, cv2.COLOR_BGR2GRAY)\n",
        "\n",
        "  threshold = 114\n",
        "  _, frame2 = cv2.threshold(frame1, threshold, 255, cv2.THRESH_BINARY)\n",
        "\n",
        "  img_blur1 = cv2.GaussianBlur(frame2,(15,15),0)\n",
        "\n",
        "  img_delta10 = img_blur1.astype(np.float32) - frame2.astype(np.float32)\n",
        "  img_delta10 =  cv2.normalize(img_delta10, img_delta10, 0, 1, cv2.NORM_MINMAX)\n",
        "\n",
        "\n",
        "\n",
        "  edgeList = list()\n",
        "  edgeLoc = np.zeros(2)\n",
        "  k = 0\n",
        "  total = 0\n",
        "\n",
        "  for i in range(1, img_delta10.shape[1]):\n",
        "    if abs(img_delta10[220,i] - img_delta10[220,i-1]) > 0.32:\n",
        "      edgeList.append(i)\n",
        "      k = k+1\n",
        "\n",
        "  for i in range(0, len(edgeList)):\n",
        "    total = total + edgeList[i]\n",
        "\n",
        "  if k != 0:\n",
        "    xVal = total/k\n",
        "  yVal = 210\n",
        "\n",
        "  cv2.circle(frame,(int(xVal),yVal), 25, (0,0,255), -1)\n",
        "  out.write(frame)\n",
        "  j = j+1\n",
        "\n",
        "rawVid.release()\n",
        "out.release()\n"
      ],
      "metadata": {
        "colab": {
          "base_uri": "https://localhost:8080/"
        },
        "id": "0HlfpZVk97CV",
        "outputId": "9427842a-14c8-4d9e-c1b8-184c2ca26795"
      },
      "execution_count": 3,
      "outputs": [
        {
          "output_type": "stream",
          "name": "stdout",
          "text": [
            "885\n"
          ]
        }
      ]
    }
  ]
}